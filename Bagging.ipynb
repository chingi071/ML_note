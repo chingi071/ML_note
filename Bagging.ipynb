{
 "cells": [
  {
   "cell_type": "code",
   "execution_count": 1,
   "id": "7774e6d3",
   "metadata": {},
   "outputs": [],
   "source": [
    "from sklearn import datasets\n",
    "from sklearn.datasets import make_regression\n",
    "from sklearn.model_selection import train_test_split\n",
    "import pandas as pd\n",
    "import numpy as np\n",
    "import matplotlib.pyplot as plt"
   ]
  },
  {
   "cell_type": "code",
   "execution_count": 2,
   "id": "982a88d2",
   "metadata": {},
   "outputs": [],
   "source": [
    "iris = datasets.load_iris()"
   ]
  },
  {
   "cell_type": "code",
   "execution_count": 3,
   "id": "8ad47d77",
   "metadata": {},
   "outputs": [],
   "source": [
    "x, y = iris['data'], iris['target']"
   ]
  },
  {
   "cell_type": "code",
   "execution_count": 4,
   "id": "1cc65bd4",
   "metadata": {},
   "outputs": [],
   "source": [
    "x_train, x_test, y_train, y_test = train_test_split(x, y, test_size=0.25, random_state=4)"
   ]
  },
  {
   "cell_type": "markdown",
   "id": "72ace417",
   "metadata": {},
   "source": [
    "# BaggingClassifier\n",
    "https://scikit-learn.org/stable/modules/generated/sklearn.ensemble.BaggingClassifier.html"
   ]
  },
  {
   "cell_type": "code",
   "execution_count": 5,
   "id": "ba928786",
   "metadata": {},
   "outputs": [
    {
     "data": {
      "text/plain": [
       "array([2, 0, 2, 2, 2, 1, 2, 0, 0, 2, 0, 0, 0, 1, 2, 0, 1, 0, 0, 2, 0, 2,\n",
       "       1, 0, 0, 0, 0, 0, 0, 2, 1, 0, 2, 0, 1, 2, 2, 1])"
      ]
     },
     "execution_count": 5,
     "metadata": {},
     "output_type": "execute_result"
    }
   ],
   "source": [
    "from sklearn.tree import DecisionTreeClassifier\n",
    "from sklearn.ensemble import BaggingClassifier\n",
    "\n",
    "tree = DecisionTreeClassifier()\n",
    "bag = BaggingClassifier(tree, n_estimators=100, max_samples=0.8,\n",
    "                        random_state=1)\n",
    "\n",
    "bag.fit(x_train, y_train)\n",
    "bag.predict(x_test)"
   ]
  },
  {
   "cell_type": "code",
   "execution_count": 6,
   "id": "911cc270",
   "metadata": {},
   "outputs": [
    {
     "name": "stdout",
     "output_type": "stream",
     "text": [
      "train score: 1.0\n",
      "test score: 0.9736842105263158\n"
     ]
    }
   ],
   "source": [
    "print(\"train score:\", bag.score(x_train, y_train))\n",
    "print(\"test score:\", bag.score(x_test, y_test))"
   ]
  },
  {
   "cell_type": "code",
   "execution_count": 7,
   "id": "6a31d8bc",
   "metadata": {},
   "outputs": [
    {
     "data": {
      "image/png": "[encoded data removed]",
      "text/plain": [
       "<Figure size 720x288 with 2 Axes>"
      ]
     },
     "metadata": {
      "needs_background": "light"
     },
     "output_type": "display_data"
    }
   ],
   "source": [
    "plt.figure(figsize=(10, 4))\n",
    "\n",
    "plt.subplot(121)\n",
    "plt.title('Original data')\n",
    "plt.scatter(x_test[:, 0], x_test[:, 1], c=y_test)\n",
    "\n",
    "plt.subplot(122)\n",
    "plt.title('Predict data')\n",
    "plt.scatter(x_test[:, 0], x_test[:, 1], c=bag.predict(x_test))\n",
    "\n",
    "plt.show()"
   ]
  },
  {
   "cell_type": "markdown",
   "id": "44b29e8c",
   "metadata": {},
   "source": [
    "# BaggingRegressor\n",
    "https://scikit-learn.org/stable/modules/generated/sklearn.ensemble.BaggingRegressor.html"
   ]
  },
  {
   "cell_type": "code",
   "execution_count": 8,
   "id": "57116e54",
   "metadata": {},
   "outputs": [],
   "source": [
    "x, y = make_regression(n_samples=100, n_features=1, noise=20)\n",
    "x_train, x_test, y_train, y_test = train_test_split(x, y, test_size=0.25, random_state=4)"
   ]
  },
  {
   "cell_type": "code",
   "execution_count": 9,
   "id": "686bbe3f",
   "metadata": {},
   "outputs": [
    {
     "data": {
      "text/plain": [
       "array([ 1.28077716e+02,  6.95860030e+01, -5.42439197e+01,  1.51686877e+02,\n",
       "       -1.23280310e+01,  1.60156079e+00, -6.04474852e+00, -2.44624911e+01,\n",
       "       -6.04474852e+00, -6.38406601e+01,  6.39924159e+01,  1.65364433e+02,\n",
       "        7.70117805e+00, -6.55825624e+01, -6.13496149e+01,  1.46374307e+02,\n",
       "        5.32623902e+01, -8.56621141e+01, -8.42982444e+01, -8.42982444e+01,\n",
       "       -2.67936340e+01,  1.14314147e-02,  5.42762976e+01,  1.28046756e+02,\n",
       "       -7.24042265e+01])"
      ]
     },
     "execution_count": 9,
     "metadata": {},
     "output_type": "execute_result"
    }
   ],
   "source": [
    "from sklearn.tree import DecisionTreeRegressor\n",
    "from sklearn.ensemble import BaggingRegressor\n",
    "\n",
    "tree = DecisionTreeRegressor(max_depth=10, random_state=0)\n",
    "bag_reg = BaggingRegressor(tree, n_estimators=100, max_samples=0.8,\n",
    "                        random_state=1)\n",
    "\n",
    "bag_reg.fit(x_train, y_train)\n",
    "bag_reg.predict(x_test)"
   ]
  },
  {
   "cell_type": "code",
   "execution_count": 10,
   "id": "d19fbc2a",
   "metadata": {},
   "outputs": [
    {
     "name": "stdout",
     "output_type": "stream",
     "text": [
      "train score: 0.9803158198916787\n",
      "test score: 0.901967866716368\n",
      "mse: 562.3995619830911\n"
     ]
    }
   ],
   "source": [
    "from sklearn.metrics import mean_squared_error\n",
    "\n",
    "print(\"train score:\", bag_reg.score(x_train, y_train))\n",
    "print(\"test score:\", bag_reg.score(x_test, y_test))\n",
    "\n",
    "print(\"mse:\", mean_squared_error(bag_reg.predict(x_test), y_test))"
   ]
  },
  {
   "cell_type": "code",
   "execution_count": 11,
   "id": "d01e63ff",
   "metadata": {},
   "outputs": [
    {
     "data": {
      "text/plain": [
       "<matplotlib.collections.PathCollection at 0x27abc5dfeb0>"
      ]
     },
     "execution_count": 11,
     "metadata": {},
     "output_type": "execute_result"
    },
    {
     "data": {
      "image/png": "[encoded data removed]",
      "text/plain": [
       "<Figure size 432x288 with 1 Axes>"
      ]
     },
     "metadata": {
      "needs_background": "light"
     },
     "output_type": "display_data"
    }
   ],
   "source": [
    "plt.scatter(x_test, y_test)\n",
    "plt.scatter(x_test, bag_reg.predict(x_test), color=\"red\")"
   ]
  },
  {
   "cell_type": "code",
   "execution_count": null,
   "id": "e5551657",
   "metadata": {},
   "outputs": [],
   "source": []
  }
 ],
 "metadata": {
  "kernelspec": {
   "display_name": "Python 3",
   "language": "python",
   "name": "python3"
  },
  "language_info": {
   "codemirror_mode": {
    "name": "ipython",
    "version": 3
   },
   "file_extension": ".py",
   "mimetype": "text/x-python",
   "name": "python",
   "nbconvert_exporter": "python",
   "pygments_lexer": "ipython3",
   "version": "3.8.8"
  }
 },
 "nbformat": 4,
 "nbformat_minor": 5
}
