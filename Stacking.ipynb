{
 "cells": [
  {
   "cell_type": "code",
   "execution_count": 1,
   "id": "dd6afbdb",
   "metadata": {},
   "outputs": [],
   "source": [
    "from sklearn import datasets\n",
    "from sklearn.datasets import make_regression\n",
    "from sklearn.model_selection import train_test_split\n",
    "import pandas as pd\n",
    "import numpy as np\n",
    "import matplotlib.pyplot as plt"
   ]
  },
  {
   "cell_type": "code",
   "execution_count": 2,
   "id": "2d1574f5",
   "metadata": {},
   "outputs": [],
   "source": [
    "iris = datasets.load_iris()\n",
    "x, y = iris['data'], iris['target']\n",
    "x_train, x_test, y_train, y_test = train_test_split(x, y, test_size=0.25, random_state=4)"
   ]
  },
  {
   "cell_type": "markdown",
   "id": "56fe7cb2",
   "metadata": {},
   "source": [
    "# StackingClassifier\n",
    "https://scikit-learn.org/stable/modules/generated/sklearn.ensemble.StackingClassifier.html"
   ]
  },
  {
   "cell_type": "code",
   "execution_count": 3,
   "id": "a17725d0",
   "metadata": {},
   "outputs": [],
   "source": [
    "from sklearn.neighbors import KNeighborsClassifier\n",
    "from sklearn.ensemble import RandomForestClassifier\n",
    "from sklearn.svm import LinearSVC\n",
    "from sklearn.ensemble import StackingClassifier\n",
    "\n",
    "estimators = [\n",
    "    ('knn', KNeighborsClassifier(n_neighbors=5)),\n",
    "    ('rf', RandomForestClassifier(n_estimators=5, random_state=42))\n",
    "]\n",
    "\n",
    "clf = StackingClassifier(\n",
    "    estimators=estimators, final_estimator=LinearSVC()\n",
    ")"
   ]
  },
  {
   "cell_type": "code",
   "execution_count": 4,
   "id": "076957db",
   "metadata": {},
   "outputs": [
    {
     "data": {
      "text/plain": [
       "StackingClassifier(estimators=[('knn', KNeighborsClassifier()),\n",
       "                               ('rf',\n",
       "                                RandomForestClassifier(n_estimators=5,\n",
       "                                                       random_state=42))],\n",
       "                   final_estimator=LinearSVC())"
      ]
     },
     "execution_count": 4,
     "metadata": {},
     "output_type": "execute_result"
    }
   ],
   "source": [
    "clf.fit(x_train, y_train)"
   ]
  },
  {
   "cell_type": "code",
   "execution_count": 5,
   "id": "76f42760",
   "metadata": {},
   "outputs": [
    {
     "name": "stdout",
     "output_type": "stream",
     "text": [
      "train score: 0.9732142857142857\n",
      "test score: 0.9736842105263158\n"
     ]
    }
   ],
   "source": [
    "print(\"train score:\", clf.score(x_train, y_train))\n",
    "print(\"test score:\", clf.score(x_test, y_test))"
   ]
  },
  {
   "cell_type": "code",
   "execution_count": 6,
   "id": "90d4b712",
   "metadata": {},
   "outputs": [
    {
     "data": {
      "image/png": "[encoded data removed]",
      "text/plain": [
       "<Figure size 720x288 with 2 Axes>"
      ]
     },
     "metadata": {
      "needs_background": "light"
     },
     "output_type": "display_data"
    }
   ],
   "source": [
    "plt.figure(figsize=(10, 4))\n",
    "\n",
    "plt.subplot(121)\n",
    "plt.title('Original data')\n",
    "plt.scatter(x_test[:, 0], x_test[:, 1], c=y_test)\n",
    "\n",
    "plt.subplot(122)\n",
    "plt.title('Predict data')\n",
    "plt.scatter(x_test[:, 0], x_test[:, 1], c=clf.predict(x_test))\n",
    "\n",
    "plt.show()"
   ]
  },
  {
   "cell_type": "markdown",
   "id": "ec062f62",
   "metadata": {},
   "source": [
    "# StackingRegressor\n",
    "https://scikit-learn.org/stable/modules/generated/sklearn.ensemble.StackingRegressor.html"
   ]
  },
  {
   "cell_type": "code",
   "execution_count": 7,
   "id": "c5377ba7",
   "metadata": {},
   "outputs": [],
   "source": [
    "x, y = make_regression(n_samples=100, n_features=1, noise=20)\n",
    "x_train, x_test, y_train, y_test = train_test_split(x, y, test_size=0.25, random_state=4)"
   ]
  },
  {
   "cell_type": "code",
   "execution_count": 8,
   "id": "0c7e4036",
   "metadata": {},
   "outputs": [],
   "source": [
    "from sklearn.neighbors import KNeighborsRegressor\n",
    "from sklearn.ensemble import RandomForestRegressor\n",
    "from sklearn.svm import SVR\n",
    "from sklearn.ensemble import StackingRegressor\n",
    "\n",
    "estimators = [\n",
    "    ('knn', KNeighborsRegressor(n_neighbors=5)),\n",
    "    ('rf', RandomForestRegressor(n_estimators=5, random_state=42))\n",
    "]\n",
    "\n",
    "clf_reg = StackingRegressor(\n",
    "    estimators=estimators, final_estimator=SVR(C=1, kernel='linear')\n",
    ")"
   ]
  },
  {
   "cell_type": "code",
   "execution_count": 9,
   "id": "b718ab6c",
   "metadata": {},
   "outputs": [
    {
     "data": {
      "text/plain": [
       "StackingRegressor(estimators=[('knn', KNeighborsRegressor()),\n",
       "                              ('rf',\n",
       "                               RandomForestRegressor(n_estimators=5,\n",
       "                                                     random_state=42))],\n",
       "                  final_estimator=SVR(C=1, kernel='linear'))"
      ]
     },
     "execution_count": 9,
     "metadata": {},
     "output_type": "execute_result"
    }
   ],
   "source": [
    "clf_reg.fit(x_train, y_train)"
   ]
  },
  {
   "cell_type": "code",
   "execution_count": 10,
   "id": "6217d4de",
   "metadata": {},
   "outputs": [
    {
     "name": "stdout",
     "output_type": "stream",
     "text": [
      "train score: 0.8371078157597778\n",
      "test score: 0.7697464371418663\n",
      "mse: 582.7494108035253\n"
     ]
    }
   ],
   "source": [
    "from sklearn.metrics import mean_squared_error\n",
    "\n",
    "print(\"train score:\", clf_reg.score(x_train, y_train))\n",
    "print(\"test score:\", clf_reg.score(x_test, y_test))\n",
    "\n",
    "print(\"mse:\", mean_squared_error(clf_reg.predict(x_test), y_test))"
   ]
  },
  {
   "cell_type": "code",
   "execution_count": 11,
   "id": "5e1e2839",
   "metadata": {},
   "outputs": [
    {
     "data": {
      "text/plain": [
       "<matplotlib.collections.PathCollection at 0x1dfb9f92b80>"
      ]
     },
     "execution_count": 11,
     "metadata": {},
     "output_type": "execute_result"
    },
    {
     "data": {
      "image/png": "[encoded data removed]",
      "text/plain": [
       "<Figure size 432x288 with 1 Axes>"
      ]
     },
     "metadata": {
      "needs_background": "light"
     },
     "output_type": "display_data"
    }
   ],
   "source": [
    "plt.scatter(x_test, y_test)\n",
    "plt.scatter(x_test, clf_reg.predict(x_test), color=\"red\")"
   ]
  },
  {
   "cell_type": "code",
   "execution_count": null,
   "id": "690fcd6f",
   "metadata": {},
   "outputs": [],
   "source": []
  }
 ],
 "metadata": {
  "kernelspec": {
   "display_name": "Python 3",
   "language": "python",
   "name": "python3"
  },
  "language_info": {
   "codemirror_mode": {
    "name": "ipython",
    "version": 3
   },
   "file_extension": ".py",
   "mimetype": "text/x-python",
   "name": "python",
   "nbconvert_exporter": "python",
   "pygments_lexer": "ipython3",
   "version": "3.8.8"
  }
 },
 "nbformat": 4,
 "nbformat_minor": 5
}
