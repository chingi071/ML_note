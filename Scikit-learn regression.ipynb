{
 "cells": [
  {
   "cell_type": "code",
   "execution_count": 1,
   "id": "eda62c71",
   "metadata": {},
   "outputs": [],
   "source": [
    "from sklearn.datasets import make_regression\n",
    "from sklearn.model_selection import train_test_split\n",
    "import pandas as pd\n",
    "import numpy as np"
   ]
  },
  {
   "cell_type": "code",
   "execution_count": 2,
   "id": "c154acd1",
   "metadata": {},
   "outputs": [],
   "source": [
    "x, y = make_regression(n_samples=100, n_features=1, noise=20)"
   ]
  },
  {
   "cell_type": "code",
   "execution_count": 3,
   "id": "3451392d",
   "metadata": {},
   "outputs": [],
   "source": [
    "x_train, x_test, y_train, y_test = train_test_split(x, y, test_size=0.25, random_state=4)"
   ]
  },
  {
   "cell_type": "code",
   "execution_count": 4,
   "id": "2813fb97",
   "metadata": {},
   "outputs": [
    {
     "data": {
      "text/plain": [
       "<matplotlib.collections.PathCollection at 0x1edcaebd280>"
      ]
     },
     "execution_count": 4,
     "metadata": {},
     "output_type": "execute_result"
    },
    {
     "data": {
      "image/png": "[encoded data removed]",
      "text/plain": [
       "<Figure size 432x288 with 1 Axes>"
      ]
     },
     "metadata": {
      "needs_background": "light"
     },
     "output_type": "display_data"
    }
   ],
   "source": [
    "import matplotlib.pyplot as plt\n",
    "\n",
    "plt.scatter(x, y)"
   ]
  },
  {
   "cell_type": "markdown",
   "id": "24834048",
   "metadata": {},
   "source": [
    "# LinearRegression\n",
    "https://scikit-learn.org/stable/modules/generated/sklearn.linear_model.LinearRegression.html"
   ]
  },
  {
   "cell_type": "code",
   "execution_count": 5,
   "id": "ec6f8c5c",
   "metadata": {
    "scrolled": true
   },
   "outputs": [
    {
     "data": {
      "text/plain": [
       "array([ -1.44172444,  61.75617588,  68.10940216,  53.05346057,\n",
       "       -58.7782842 , -57.28314207, -98.9306419 , -42.8105648 ,\n",
       "        -3.95580923, -40.02921491,  77.10086218,  56.78376194,\n",
       "       -11.86839478,  51.20928493, -22.09330804,  38.26807858,\n",
       "       -73.18285876,  26.95359214, -36.01842741,  53.78716226,\n",
       "       -44.88418643, -18.44485494,  91.45185137,  51.30723177,\n",
       "        93.14227296])"
      ]
     },
     "execution_count": 5,
     "metadata": {},
     "output_type": "execute_result"
    }
   ],
   "source": [
    "from sklearn.linear_model import LinearRegression\n",
    "\n",
    "linear_reg = LinearRegression()\n",
    "linear_reg.fit(x_train, y_train)\n",
    "\n",
    "linear_reg.predict(x_test)"
   ]
  },
  {
   "cell_type": "code",
   "execution_count": 6,
   "id": "2b196acd",
   "metadata": {},
   "outputs": [
    {
     "name": "stdout",
     "output_type": "stream",
     "text": [
      "coef: [50.99244291]\n",
      "intercept: 2.7856463950488877\n"
     ]
    }
   ],
   "source": [
    "print(\"coef:\", linear_reg.coef_)\n",
    "print(\"intercept:\", linear_reg.intercept_)"
   ]
  },
  {
   "cell_type": "code",
   "execution_count": 7,
   "id": "159ebaf9",
   "metadata": {},
   "outputs": [
    {
     "name": "stdout",
     "output_type": "stream",
     "text": [
      "train score: 0.883163778999245\n",
      "test score: 0.895652379968809\n",
      "mse: 381.7642114022783\n"
     ]
    }
   ],
   "source": [
    "from sklearn.metrics import mean_squared_error\n",
    "\n",
    "print(\"train score:\", linear_reg.score(x_train, y_train))\n",
    "print(\"test score:\", linear_reg.score(x_test, y_test))\n",
    "\n",
    "print(\"mse:\", mean_squared_error(linear_reg.predict(x_test), y_test))"
   ]
  },
  {
   "cell_type": "code",
   "execution_count": 8,
   "id": "ec1210c0",
   "metadata": {},
   "outputs": [
    {
     "data": {
      "text/plain": [
       "[<matplotlib.lines.Line2D at 0x1edcb7cb760>]"
      ]
     },
     "execution_count": 8,
     "metadata": {},
     "output_type": "execute_result"
    },
    {
     "data": {
      "image/png": "[encoded data removed]",
      "text/plain": [
       "<Figure size 432x288 with 1 Axes>"
      ]
     },
     "metadata": {
      "needs_background": "light"
     },
     "output_type": "display_data"
    }
   ],
   "source": [
    "plt.scatter(x_test, y_test)\n",
    "plt.plot(x_test, linear_reg.predict(x_test), color=\"red\")"
   ]
  },
  {
   "cell_type": "markdown",
   "id": "69a2e65a",
   "metadata": {},
   "source": [
    "# KNN\n",
    "https://scikit-learn.org/stable/modules/generated/sklearn.neighbors.KNeighborsRegressor.html"
   ]
  },
  {
   "cell_type": "code",
   "execution_count": 9,
   "id": "2b333273",
   "metadata": {},
   "outputs": [
    {
     "data": {
      "text/plain": [
       "array([ -23.61220765,   48.01737817,   73.50908831,   48.01737817,\n",
       "        -54.21145444,  -54.21145444, -115.67296605,  -45.67868303,\n",
       "        -17.16876178,  -42.13370408,   94.4134399 ,   48.01737817,\n",
       "         -4.33285983,   31.91746646,  -29.26436021,   34.95120763,\n",
       "        -76.24632244,   21.19753832,  -35.92605014,   48.01737817,\n",
       "        -50.26796246,  -27.49194288,  112.98588149,   31.91746646,\n",
       "        112.98588149])"
      ]
     },
     "execution_count": 9,
     "metadata": {},
     "output_type": "execute_result"
    }
   ],
   "source": [
    "from sklearn.neighbors import KNeighborsRegressor\n",
    "\n",
    "knn = KNeighborsRegressor(n_neighbors=3)\n",
    "knn.fit(x_train, y_train)\n",
    "\n",
    "knn.predict(x_test)"
   ]
  },
  {
   "cell_type": "code",
   "execution_count": 10,
   "id": "847ade3a",
   "metadata": {},
   "outputs": [
    {
     "name": "stdout",
     "output_type": "stream",
     "text": [
      "train score: 0.9110917357912675\n",
      "test score: 0.9359549683059869\n",
      "mse: 234.3139307977541\n"
     ]
    }
   ],
   "source": [
    "from sklearn.metrics import mean_squared_error\n",
    "\n",
    "print(\"train score:\", knn.score(x_train, y_train))\n",
    "print(\"test score:\", knn.score(x_test, y_test))\n",
    "\n",
    "print(\"mse:\", mean_squared_error(knn.predict(x_test), y_test))"
   ]
  },
  {
   "cell_type": "code",
   "execution_count": 11,
   "id": "6da83c54",
   "metadata": {},
   "outputs": [
    {
     "data": {
      "text/plain": [
       "<matplotlib.collections.PathCollection at 0x1edc5bc03d0>"
      ]
     },
     "execution_count": 11,
     "metadata": {},
     "output_type": "execute_result"
    },
    {
     "data": {
      "image/png": "[encoded data removed]",
      "text/plain": [
       "<Figure size 432x288 with 1 Axes>"
      ]
     },
     "metadata": {
      "needs_background": "light"
     },
     "output_type": "display_data"
    }
   ],
   "source": [
    "plt.scatter(x_test, y_test)\n",
    "plt.scatter(x_test, knn.predict(x_test), color=\"red\")"
   ]
  },
  {
   "cell_type": "markdown",
   "id": "f3614ce8",
   "metadata": {},
   "source": [
    "# SVM\n",
    "https://scikit-learn.org/stable/modules/generated/sklearn.svm.SVR.html\n",
    "\n",
    "有三種 kernel: linear, poly, rbf"
   ]
  },
  {
   "cell_type": "code",
   "execution_count": 12,
   "id": "4936771f",
   "metadata": {},
   "outputs": [
    {
     "data": {
      "text/plain": [
       "array([ -3.68198583,  45.90847422,  50.89375715,  39.07958191,\n",
       "       -48.67313841, -47.49992244, -80.18010115, -36.14350456,\n",
       "        -5.65475108, -33.96102034,  57.94922319,  42.00669435,\n",
       "       -11.86364023,  37.63248448, -19.88697882,  27.47771078,\n",
       "       -59.97619557,  18.59940018, -30.81381455,  39.6553068 ,\n",
       "       -37.77064486, -17.0240915 ,  69.21023269,  37.70934193,\n",
       "        70.53668157])"
      ]
     },
     "execution_count": 12,
     "metadata": {},
     "output_type": "execute_result"
    }
   ],
   "source": [
    "from sklearn import svm\n",
    "\n",
    "svr = svm.SVR(C=1, kernel='linear')\n",
    "svr.fit(x_train, y_train)\n",
    "\n",
    "svr.predict(x_test)"
   ]
  },
  {
   "cell_type": "code",
   "execution_count": 13,
   "id": "45ba54b6",
   "metadata": {},
   "outputs": [
    {
     "name": "stdout",
     "output_type": "stream",
     "text": [
      "train score: 0.84215517492019\n",
      "test score: 0.8509863558019286\n",
      "mse: 545.1784750668171\n"
     ]
    }
   ],
   "source": [
    "from sklearn.metrics import mean_squared_error\n",
    "\n",
    "print(\"train score:\", svr.score(x_train, y_train))\n",
    "print(\"test score:\", svr.score(x_test, y_test))\n",
    "\n",
    "print(\"mse:\", mean_squared_error(svr.predict(x_test), y_test))"
   ]
  },
  {
   "cell_type": "code",
   "execution_count": 14,
   "id": "d283a31b",
   "metadata": {},
   "outputs": [
    {
     "data": {
      "text/plain": [
       "[<matplotlib.lines.Line2D at 0x1edcb986c70>]"
      ]
     },
     "execution_count": 14,
     "metadata": {},
     "output_type": "execute_result"
    },
    {
     "data": {
      "image/png": "[encoded data removed]",
      "text/plain": [
       "<Figure size 432x288 with 1 Axes>"
      ]
     },
     "metadata": {
      "needs_background": "light"
     },
     "output_type": "display_data"
    }
   ],
   "source": [
    "plt.scatter(x_test, y_test)\n",
    "plt.plot(x_test, svr.predict(x_test), color=\"red\")"
   ]
  },
  {
   "cell_type": "markdown",
   "id": "e923ce2e",
   "metadata": {},
   "source": [
    "# DecisionTree\n",
    "https://scikit-learn.org/stable/modules/generated/sklearn.tree.DecisionTreeRegressor.html"
   ]
  },
  {
   "cell_type": "code",
   "execution_count": 21,
   "id": "383c20e2",
   "metadata": {},
   "outputs": [
    {
     "data": {
      "text/plain": [
       "array([  -7.04668656,   53.22711791,   53.22711791,   47.18202577,\n",
       "        -31.12786156,  -70.16095997, -111.986336  ,  -34.64844382,\n",
       "         12.28365105,  -48.23360924,  123.65715617,   47.18202577,\n",
       "        -10.81972575,   47.18202577,   -3.78176855,   43.84033072,\n",
       "        -81.54317033,   21.80955626,  -48.60347774,   47.18202577,\n",
       "        -19.34620069,  -59.64553036,  106.35604563,   47.18202577,\n",
       "        108.34133379])"
      ]
     },
     "execution_count": 21,
     "metadata": {},
     "output_type": "execute_result"
    }
   ],
   "source": [
    "from sklearn.tree import DecisionTreeRegressor\n",
    "\n",
    "regressor = DecisionTreeRegressor(max_depth=10, random_state=0)\n",
    "regressor.fit(x_train, y_train)\n",
    "\n",
    "regressor.predict(x_test)"
   ]
  },
  {
   "cell_type": "code",
   "execution_count": 22,
   "id": "efe01a4d",
   "metadata": {},
   "outputs": [
    {
     "name": "stdout",
     "output_type": "stream",
     "text": [
      "train score: 0.9995502949852639\n",
      "test score: 0.8284097048456477\n",
      "mse: 627.7769794299521\n"
     ]
    }
   ],
   "source": [
    "from sklearn.metrics import mean_squared_error\n",
    "\n",
    "print(\"train score:\", regressor.score(x_train, y_train))\n",
    "print(\"test score:\", regressor.score(x_test, y_test))\n",
    "\n",
    "print(\"mse:\", mean_squared_error(regressor.predict(x_test), y_test))"
   ]
  },
  {
   "cell_type": "code",
   "execution_count": 23,
   "id": "f21d5031",
   "metadata": {},
   "outputs": [
    {
     "data": {
      "text/plain": [
       "<matplotlib.collections.PathCollection at 0x1edcbc14220>"
      ]
     },
     "execution_count": 23,
     "metadata": {},
     "output_type": "execute_result"
    },
    {
     "data": {
      "image/png": "[encoded data removed]",
      "text/plain": [
       "<Figure size 432x288 with 1 Axes>"
      ]
     },
     "metadata": {
      "needs_background": "light"
     },
     "output_type": "display_data"
    }
   ],
   "source": [
    "plt.scatter(x_test, y_test)\n",
    "plt.scatter(x_test, regressor.predict(x_test), color=\"red\")"
   ]
  },
  {
   "cell_type": "markdown",
   "id": "6cfb7268",
   "metadata": {},
   "source": [
    "# RandomForest\n",
    "https://scikit-learn.org/stable/modules/generated/sklearn.ensemble.RandomForestRegressor.html"
   ]
  },
  {
   "cell_type": "code",
   "execution_count": 24,
   "id": "1674fabe",
   "metadata": {},
   "outputs": [
    {
     "data": {
      "text/plain": [
       "array([ -16.64577705,   50.53997188,   66.36585319,   46.18598942,\n",
       "        -45.47076282,  -60.79742298, -112.63121744,  -40.29496292,\n",
       "         -2.07490005,  -45.45514476,  108.61289485,   46.18598942,\n",
       "         -9.38207616,   43.70374029,  -11.89177248,   37.7324672 ,\n",
       "        -80.32675451,   21.78459791,  -39.96282591,   46.18598942,\n",
       "        -36.09708108,  -42.75312944,  107.57029606,   43.77100266,\n",
       "        111.80591878])"
      ]
     },
     "execution_count": 24,
     "metadata": {},
     "output_type": "execute_result"
    }
   ],
   "source": [
    "from sklearn.ensemble import RandomForestRegressor\n",
    "\n",
    "rf = RandomForestRegressor(n_estimators=100, max_depth=10, random_state=0)\n",
    "rf.fit(x_train, y_train)\n",
    "\n",
    "rf.predict(x_test)"
   ]
  },
  {
   "cell_type": "code",
   "execution_count": 25,
   "id": "9e757c1b",
   "metadata": {},
   "outputs": [
    {
     "name": "stdout",
     "output_type": "stream",
     "text": [
      "train score: 0.9705259619362566\n",
      "test score: 0.905535718127226\n",
      "mse: 345.6052190175713\n"
     ]
    }
   ],
   "source": [
    "from sklearn.metrics import mean_squared_error\n",
    "\n",
    "print(\"train score:\", rf.score(x_train, y_train))\n",
    "print(\"test score:\", rf.score(x_test, y_test))\n",
    "\n",
    "print(\"mse:\", mean_squared_error(rf.predict(x_test), y_test))"
   ]
  },
  {
   "cell_type": "code",
   "execution_count": 26,
   "id": "0fbd34c1",
   "metadata": {},
   "outputs": [
    {
     "data": {
      "text/plain": [
       "<matplotlib.collections.PathCollection at 0x1edcbd0fc40>"
      ]
     },
     "execution_count": 26,
     "metadata": {},
     "output_type": "execute_result"
    },
    {
     "data": {
      "image/png": "[encoded data removed]",
      "text/plain": [
       "<Figure size 432x288 with 1 Axes>"
      ]
     },
     "metadata": {
      "needs_background": "light"
     },
     "output_type": "display_data"
    }
   ],
   "source": [
    "plt.scatter(x_test, y_test)\n",
    "plt.scatter(x_test, rf.predict(x_test), color=\"red\")"
   ]
  },
  {
   "cell_type": "markdown",
   "id": "1fac7da2",
   "metadata": {},
   "source": [
    "# XGBoost \n",
    "https://xgboost.readthedocs.io/en/stable/python/python_api.html#xgboost.XGBRegressor"
   ]
  },
  {
   "cell_type": "code",
   "execution_count": 27,
   "id": "6c97420e",
   "metadata": {},
   "outputs": [
    {
     "data": {
      "text/plain": [
       "array([  -7.1701484,   53.373833 ,   53.373833 ,   46.99615  ,\n",
       "        -31.819641 ,  -70.148834 , -111.77232  ,  -35.153194 ,\n",
       "         11.661141 ,  -47.597595 ,  123.33585  ,   46.99615  ,\n",
       "        -10.834388 ,   46.99615  ,   -4.236261 ,   43.88874  ,\n",
       "        -81.34364  ,   21.898949 ,  -47.810944 ,   46.99615  ,\n",
       "        -19.775967 ,  -58.767994 ,  106.533424 ,   46.99615  ,\n",
       "        108.37129  ], dtype=float32)"
      ]
     },
     "execution_count": 27,
     "metadata": {},
     "output_type": "execute_result"
    }
   ],
   "source": [
    "from xgboost import XGBRegressor\n",
    "\n",
    "xgb_model = XGBRegressor(n_estimators = 100, eval_metric='mlogloss')\n",
    "xgb_model.fit(x_train, y_train)\n",
    "\n",
    "xgb_model.predict(x_test)"
   ]
  },
  {
   "cell_type": "code",
   "execution_count": 28,
   "id": "af726d37",
   "metadata": {},
   "outputs": [
    {
     "name": "stdout",
     "output_type": "stream",
     "text": [
      "train score: 0.999946104643553\n",
      "test score: 0.8317935168841782\n",
      "mse: 615.3970292783627\n"
     ]
    }
   ],
   "source": [
    "from sklearn.metrics import mean_squared_error\n",
    "\n",
    "print(\"train score:\", xgb_model.score(x_train, y_train))\n",
    "print(\"test score:\", xgb_model.score(x_test, y_test))\n",
    "\n",
    "print(\"mse:\", mean_squared_error(xgb_model.predict(x_test), y_test))"
   ]
  },
  {
   "cell_type": "code",
   "execution_count": 29,
   "id": "78e21bd1",
   "metadata": {},
   "outputs": [
    {
     "data": {
      "text/plain": [
       "<matplotlib.collections.PathCollection at 0x1edcbd3bcd0>"
      ]
     },
     "execution_count": 29,
     "metadata": {},
     "output_type": "execute_result"
    },
    {
     "data": {
      "image/png": "[encoded data removed]",
      "text/plain": [
       "<Figure size 432x288 with 1 Axes>"
      ]
     },
     "metadata": {
      "needs_background": "light"
     },
     "output_type": "display_data"
    }
   ],
   "source": [
    "plt.scatter(x_test, y_test)\n",
    "plt.scatter(x_test, xgb_model.predict(x_test), color=\"red\")"
   ]
  },
  {
   "cell_type": "markdown",
   "id": "65fc3846",
   "metadata": {},
   "source": [
    "# Gradient Boosting\n",
    "https://scikit-learn.org/stable/auto_examples/ensemble/plot_gradient_boosting_regression.html"
   ]
  },
  {
   "cell_type": "code",
   "execution_count": 32,
   "id": "a4a597a9",
   "metadata": {},
   "outputs": [
    {
     "data": {
      "text/plain": [
       "array([  -7.04708036,   53.22521189,   53.22521189,   47.18008862,\n",
       "        -31.13428829,  -70.15731848, -111.98333317,  -34.65457374,\n",
       "         12.27940347,  -48.22631136,  123.65361661,   47.18008862,\n",
       "        -10.81959077,   47.18008862,   -3.78646748,   43.83843399,\n",
       "        -81.54068513,   21.80907286,  -48.59000742,   47.18008862,\n",
       "        -19.35683038,  -59.63796682,  106.35296562,   47.18008862,\n",
       "        108.33820104])"
      ]
     },
     "execution_count": 32,
     "metadata": {},
     "output_type": "execute_result"
    }
   ],
   "source": [
    "from sklearn import ensemble\n",
    "\n",
    "gdb = ensemble.GradientBoostingRegressor(n_estimators = 100, max_depth=10)\n",
    "gdb.fit(x_train, y_train)\n",
    "\n",
    "gdb.predict(x_test)"
   ]
  },
  {
   "cell_type": "code",
   "execution_count": 33,
   "id": "7d5c43ff",
   "metadata": {},
   "outputs": [
    {
     "name": "stdout",
     "output_type": "stream",
     "text": [
      "train score: 0.999999994036972\n",
      "test score: 0.828448820427881\n",
      "mse: 627.6338719072274\n"
     ]
    }
   ],
   "source": [
    "from sklearn.metrics import mean_squared_error\n",
    "\n",
    "print(\"train score:\", gdb.score(x_train, y_train))\n",
    "print(\"test score:\", gdb.score(x_test, y_test))\n",
    "\n",
    "print(\"mse:\", mean_squared_error(gdb.predict(x_test), y_test))"
   ]
  },
  {
   "cell_type": "code",
   "execution_count": 34,
   "id": "8a717d72",
   "metadata": {},
   "outputs": [
    {
     "data": {
      "text/plain": [
       "<matplotlib.collections.PathCollection at 0x1edcbffc3a0>"
      ]
     },
     "execution_count": 34,
     "metadata": {},
     "output_type": "execute_result"
    },
    {
     "data": {
      "image/png": "[encoded data removed]",
      "text/plain": [
       "<Figure size 432x288 with 1 Axes>"
      ]
     },
     "metadata": {
      "needs_background": "light"
     },
     "output_type": "display_data"
    }
   ],
   "source": [
    "plt.scatter(x_test, y_test)\n",
    "plt.scatter(x_test, gdb.predict(x_test), color=\"red\")"
   ]
  },
  {
   "cell_type": "code",
   "execution_count": null,
   "id": "54d66a1c",
   "metadata": {},
   "outputs": [],
   "source": []
  }
 ],
 "metadata": {
  "kernelspec": {
   "display_name": "Python 3",
   "language": "python",
   "name": "python3"
  },
  "language_info": {
   "codemirror_mode": {
    "name": "ipython",
    "version": 3
   },
   "file_extension": ".py",
   "mimetype": "text/x-python",
   "name": "python",
   "nbconvert_exporter": "python",
   "pygments_lexer": "ipython3",
   "version": "3.8.8"
  }
 },
 "nbformat": 4,
 "nbformat_minor": 5
}
